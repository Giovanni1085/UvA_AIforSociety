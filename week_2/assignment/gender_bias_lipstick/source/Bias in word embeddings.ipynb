{
 "cells": [
  {
   "cell_type": "markdown",
   "metadata": {},
   "source": [
    "# Bias in word embeddings\n",
    "\n",
    "These materials are a partial replication of [Bolukbasi et al. 2016](https://arxiv.org/pdf/1607.06520.pdf) \"Man is to Computer Programmer as Woman is to Homemaker? Debiasing Word Embeddings\", and their assessment by [Gonen and Goldberg 2019](https://arxiv.org/pdf/1903.03862.pdf) \"Lipstick on a Pig: Debiasing Methods Cover up Systematic Gender Biases in Word Embeddings But do not Remove Them\".\n",
    "\n",
    "For a detailed explanation of the experiments, see the original papers. \n",
    "\n",
    "*This notebook is largely based on Gonen and Goldberg's code, which can be found here: https://github.com/gonenhila/gender_bias_lipstick (a link to the embeddings is given there).*\n",
    "\n",
    "We use the Word2Vec model from https://code.google.com/archive/p/word2vec, and its debiased version from [Bolukbasi et al. 2016](https://arxiv.org/pdf/1607.06520.pdf))."
   ]
  },
  {
   "cell_type": "markdown",
   "metadata": {},
   "source": [
    "### Load embeddings"
   ]
  },
  {
   "cell_type": "code",
   "execution_count": 1,
   "metadata": {},
   "outputs": [],
   "source": [
    "import codecs\n",
    "import numpy as np\n",
    "from numpy import linalg as LA\n",
    "\n",
    "def load_embeddings_from_np(filename):\n",
    "    print('loading ...')\n",
    "    with codecs.open(filename + '.vocab', 'r', 'utf-8') as f_embed:\n",
    "        vocab = [line.strip() for line in f_embed]\n",
    "        \n",
    "    w2i = {w: i for i, w in enumerate(vocab)}\n",
    "    wv = np.load(filename + '.wv.npy')\n",
    "\n",
    "    return vocab, wv, w2i\n",
    "\n",
    "\n",
    "def normalize(wv):\n",
    "    \n",
    "    # normalize vectors\n",
    "    norms = np.apply_along_axis(LA.norm, 1, wv)\n",
    "    wv = wv / norms[:, np.newaxis]\n",
    "    return wv\n",
    "\n",
    "\n",
    "def load_and_normalize(space, filename, vocab, wv, w2i):\n",
    "    vocab_muse, wv_muse, w2i_muse = load_embeddings_from_np(filename)\n",
    "    wv_muse = normalize(wv_muse)\n",
    "    vocab[space] = vocab_muse \n",
    "    wv[space] = wv_muse\n",
    "    w2i[space] = w2i_muse\n",
    "    print('done')"
   ]
  },
  {
   "cell_type": "code",
   "execution_count": 2,
   "metadata": {},
   "outputs": [
    {
     "name": "stdout",
     "output_type": "stream",
     "text": [
      "loading ...\n",
      "done\n",
      "loading ...\n",
      "done\n"
     ]
    }
   ],
   "source": [
    "vocab = {}\n",
    "wv = {}\n",
    "w2i = {}\n",
    "\n",
    "load_and_normalize('bef', '../data/embeddings/orig_w2v', vocab, wv, w2i)\n",
    "load_and_normalize('aft', '../data/embeddings/hard_debiased_w2v', vocab, wv, w2i)"
   ]
  },
  {
   "cell_type": "code",
   "execution_count": 3,
   "metadata": {},
   "outputs": [],
   "source": [
    "from tqdm import tqdm\n",
    "\n",
    "def topK(w, space, k=10):\n",
    "    \n",
    "    # extract the word vector for word w\n",
    "    idx = w2i[space][w]\n",
    "    vec = wv[space][idx, :]\n",
    "    \n",
    "    # compute similarity of w with all words in the vocabulary\n",
    "    sim = wv[space].dot(vec)\n",
    "    # sort similarities by descending order\n",
    "    sort_sim = (sim.argsort())[::-1]\n",
    "\n",
    "    # choose topK\n",
    "    best = sort_sim[:(k+1)]\n",
    "\n",
    "    return [vocab[space][i] for i in best if i!=idx]\n",
    "\n",
    "def similarity(w1, w2, space):\n",
    "    \n",
    "    i1 = w2i[space][w1]\n",
    "    i2 = w2i[space][w2]\n",
    "    vec1 = wv[space][i1, :]\n",
    "    vec2 = wv[space][i2, :]\n",
    "\n",
    "    return np.inner(vec1,vec2)"
   ]
  },
  {
   "cell_type": "markdown",
   "metadata": {},
   "source": [
    "### Restrict vocabulary"
   ]
  },
  {
   "cell_type": "code",
   "execution_count": 4,
   "metadata": {},
   "outputs": [],
   "source": [
    "import string \n",
    "\n",
    "\n",
    "def has_punct(w):\n",
    "    \n",
    "    if any([c in string.punctuation for c in w]):\n",
    "        return True\n",
    "    return False\n",
    "\n",
    "def has_digit(w):\n",
    "    \n",
    "    if any([c in '0123456789' for c in w]):\n",
    "        return True\n",
    "    return False\n",
    "\n",
    "def limit_vocab(space, exclude = None):\n",
    "    vocab_limited = []\n",
    "    for w in tqdm(vocab[space][:50000]): \n",
    "        if w.lower() != w:\n",
    "            continue\n",
    "        if len(w) >= 20:\n",
    "            continue\n",
    "        if has_digit(w):\n",
    "            continue\n",
    "        if '_' in w:\n",
    "            p = [has_punct(subw) for subw in w.split('_')]\n",
    "            if not any(p):\n",
    "                vocab_limited.append(w)\n",
    "            continue\n",
    "        if has_punct(w):\n",
    "            continue\n",
    "        vocab_limited.append(w)\n",
    "    \n",
    "    if exclude:\n",
    "        vocab_limited = list(set(vocab_limited) - set(exclude))\n",
    "    \n",
    "    print(\"size of vocabulary:\", len(vocab_limited))\n",
    "    \n",
    "    wv_limited = np.zeros((len(vocab_limited), 300))\n",
    "    for i,w in enumerate(vocab_limited):\n",
    "        wv_limited[i,:] = wv[space][w2i[space][w],:]\n",
    "    \n",
    "    w2i_limited = {w: i for i, w in enumerate(vocab_limited)}\n",
    "    \n",
    "    return vocab_limited, wv_limited, w2i_limited"
   ]
  },
  {
   "cell_type": "code",
   "execution_count": 5,
   "metadata": {},
   "outputs": [
    {
     "name": "stderr",
     "output_type": "stream",
     "text": [
      "100%|██████████| 50000/50000 [00:00<00:00, 528301.77it/s]\n"
     ]
    },
    {
     "name": "stdout",
     "output_type": "stream",
     "text": [
      "size of vocabulary: 26189\n"
     ]
    },
    {
     "name": "stderr",
     "output_type": "stream",
     "text": [
      "100%|██████████| 50000/50000 [00:00<00:00, 617848.85it/s]\n"
     ]
    },
    {
     "name": "stdout",
     "output_type": "stream",
     "text": [
      "size of vocabulary: 26189\n"
     ]
    }
   ],
   "source": [
    "# create the reduced vocabularies and embeddings before and after, without gendered specific words\n",
    "\n",
    "import json\n",
    "with codecs.open('../data/lists/gender_specific_full.json') as f:\n",
    "    gender_specific = json.load(f)\n",
    "with codecs.open('../data/lists/definitional_pairs.json') as f:\n",
    "    definitional_pairs = json.load(f)\n",
    "with codecs.open('../data/lists/equalize_pairs.json') as f:\n",
    "    equalize_pairs = json.load(f)\n",
    "\n",
    "exclude_words = []\n",
    "for pair in definitional_pairs + equalize_pairs:\n",
    "    exclude_words.append(pair[0])\n",
    "    exclude_words.append(pair[1])\n",
    "\n",
    "exclude_words = list(set(exclude_words).union(set(gender_specific)))\n",
    "\n",
    "# create spaces of limited vocabulary\n",
    "vocab['limit_bef'], wv['limit_bef'], w2i['limit_bef'] = limit_vocab('bef', exclude = exclude_words)\n",
    "vocab['limit_aft'], wv['limit_aft'], w2i['limit_aft'] = limit_vocab('aft', exclude = exclude_words)\n",
    "\n",
    "assert(vocab['limit_aft'] == vocab['limit_bef'])"
   ]
  },
  {
   "cell_type": "markdown",
   "metadata": {},
   "source": [
    "### Compute bias-by-projection"
   ]
  },
  {
   "cell_type": "code",
   "execution_count": 6,
   "metadata": {},
   "outputs": [],
   "source": [
    "# create a dictionary of the bias, before and after\n",
    "\n",
    "def compute_bias_by_projection(space_to_tag, full_space):\n",
    "    males = wv[space_to_tag].dot(wv[full_space][w2i[full_space]['he'],:])\n",
    "    females = wv[space_to_tag].dot(wv[full_space][w2i[full_space]['she'],:])\n",
    "    d = {}\n",
    "    for w,m,f in zip(vocab[space_to_tag], males, females):\n",
    "        d[w] = m-f\n",
    "    return d\n",
    "\n",
    "# compute bias-by-projection before and after debiasing\n",
    "gender_bias_bef = compute_bias_by_projection('limit_bef', 'bef')\n",
    "gender_bias_aft = compute_bias_by_projection('limit_aft', 'aft')"
   ]
  },
  {
   "cell_type": "code",
   "execution_count": 17,
   "metadata": {},
   "outputs": [
    {
     "data": {
      "text/plain": [
       "0.0771652838544552"
      ]
     },
     "execution_count": 17,
     "metadata": {},
     "output_type": "execute_result"
    }
   ],
   "source": [
    "gender_bias_bef[\"plumber\"]"
   ]
  },
  {
   "cell_type": "code",
   "execution_count": 18,
   "metadata": {},
   "outputs": [
    {
     "data": {
      "text/plain": [
       "0.07281604195231672"
      ]
     },
     "execution_count": 18,
     "metadata": {},
     "output_type": "execute_result"
    }
   ],
   "source": [
    "gender_bias_bef[\"manager\"]"
   ]
  },
  {
   "cell_type": "code",
   "execution_count": 13,
   "metadata": {},
   "outputs": [
    {
     "data": {
      "text/plain": [
       "-0.00299872895471176"
      ]
     },
     "execution_count": 13,
     "metadata": {},
     "output_type": "execute_result"
    }
   ],
   "source": [
    "gender_bias_bef[\"doctor\"]"
   ]
  },
  {
   "cell_type": "code",
   "execution_count": 12,
   "metadata": {},
   "outputs": [
    {
     "data": {
      "text/plain": [
       "-0.021703316951948354"
      ]
     },
     "execution_count": 12,
     "metadata": {},
     "output_type": "execute_result"
    }
   ],
   "source": [
    "gender_bias_bef[\"professor\"]"
   ]
  },
  {
   "cell_type": "code",
   "execution_count": 10,
   "metadata": {},
   "outputs": [
    {
     "data": {
      "text/plain": [
       "-0.24709449195517097"
      ]
     },
     "execution_count": 10,
     "metadata": {},
     "output_type": "execute_result"
    }
   ],
   "source": [
    "gender_bias_bef[\"nurse\"]"
   ]
  },
  {
   "cell_type": "code",
   "execution_count": 21,
   "metadata": {},
   "outputs": [
    {
     "data": {
      "text/plain": [
       "9.203681428093802e-10"
      ]
     },
     "execution_count": 21,
     "metadata": {},
     "output_type": "execute_result"
    }
   ],
   "source": [
    "gender_bias_aft[\"plumber\"]"
   ]
  },
  {
   "cell_type": "code",
   "execution_count": 20,
   "metadata": {},
   "outputs": [
    {
     "data": {
      "text/plain": [
       "5.8358252119639076e-09"
      ]
     },
     "execution_count": 20,
     "metadata": {},
     "output_type": "execute_result"
    }
   ],
   "source": [
    "gender_bias_aft[\"nurse\"]"
   ]
  },
  {
   "cell_type": "code",
   "execution_count": 24,
   "metadata": {},
   "outputs": [
    {
     "name": "stdout",
     "output_type": "stream",
     "text": [
      "0.04607731006352767\n",
      "2.627982224995115e-09\n"
     ]
    }
   ],
   "source": [
    "# calculate the avg bias of the vocabulary (in absolute terms) before and after debiasing\n",
    "\n",
    "def report_bias(gender_bias):\n",
    "    bias = 0.0\n",
    "    for k in gender_bias:\n",
    "        bias += np.abs(gender_bias[k])\n",
    "    print(bias/len(gender_bias))\n",
    "report_bias(gender_bias_bef)\n",
    "report_bias(gender_bias_aft)"
   ]
  },
  {
   "cell_type": "markdown",
   "metadata": {},
   "source": [
    "### Compute the gender subspace"
   ]
  },
  {
   "cell_type": "code",
   "execution_count": 129,
   "metadata": {},
   "outputs": [],
   "source": [
    "gender_subspace = np.empty([0,len(wv['bef'][w2i['bef']['he'],:])])"
   ]
  },
  {
   "cell_type": "code",
   "execution_count": 130,
   "metadata": {},
   "outputs": [],
   "source": [
    "for p in definitional_pairs:\n",
    "    # remember to normalise to one again\n",
    "    diff = wv['bef'][w2i['bef'][p[0]],:] - wv['bef'][w2i['bef'][p[1]],:] # note this time we do she - he\n",
    "    dn = np.linalg.norm(diff)\n",
    "    diff = diff/dn\n",
    "    gender_subspace = np.vstack((gender_subspace, diff))"
   ]
  },
  {
   "cell_type": "code",
   "execution_count": 131,
   "metadata": {},
   "outputs": [
    {
     "data": {
      "text/plain": [
       "(10, 300)"
      ]
     },
     "execution_count": 131,
     "metadata": {},
     "output_type": "execute_result"
    }
   ],
   "source": [
    "gender_subspace.shape"
   ]
  },
  {
   "cell_type": "code",
   "execution_count": 132,
   "metadata": {},
   "outputs": [
    {
     "data": {
      "text/plain": [
       "PCA(n_components=10)"
      ]
     },
     "execution_count": 132,
     "metadata": {},
     "output_type": "execute_result"
    }
   ],
   "source": [
    "from sklearn.decomposition import PCA\n",
    "pca = PCA(n_components=10)\n",
    "pca.fit(gender_subspace)"
   ]
  },
  {
   "cell_type": "code",
   "execution_count": 149,
   "metadata": {},
   "outputs": [
    {
     "data": {
      "text/plain": [
       "[<matplotlib.lines.Line2D at 0x269d8e2d0>]"
      ]
     },
     "execution_count": 149,
     "metadata": {},
     "output_type": "execute_result"
    },
    {
     "data": {
      "image/png": "[encoded data removed]",
      "text/plain": [
       "<Figure size 432x288 with 1 Axes>"
      ]
     },
     "metadata": {
      "needs_background": "light"
     },
     "output_type": "display_data"
    }
   ],
   "source": [
    "# Cf. Figure 6 in Bolukbasi: it seems 2-3 components would be relevant here \n",
    "\n",
    "plt.plot(pca.explained_variance_ratio_)"
   ]
  },
  {
   "cell_type": "code",
   "execution_count": 150,
   "metadata": {},
   "outputs": [
    {
     "data": {
      "text/plain": [
       "[<matplotlib.lines.Line2D at 0x269e0b3d0>]"
      ]
     },
     "execution_count": 150,
     "metadata": {},
     "output_type": "execute_result"
    },
    {
     "data": {
      "image/png": "[encoded data removed]",
      "text/plain": [
       "<Figure size 432x288 with 1 Axes>"
      ]
     },
     "metadata": {
      "needs_background": "light"
     },
     "output_type": "display_data"
    }
   ],
   "source": [
    "plt.plot(pca.singular_values_)"
   ]
  },
  {
   "cell_type": "code",
   "execution_count": 152,
   "metadata": {},
   "outputs": [],
   "source": [
    "# create a dictionary of the bias, before and after, using the gender subspace\n",
    "\n",
    "def compute_bias_by_projection_subspace(space_to_tag, subspace, c=1, wordlist=[]):\n",
    "    d = 0\n",
    "    n = 0\n",
    "    if len(wordlist)==0:\n",
    "        wordlist = vocab[space_to_tag]\n",
    "    for w in wordlist:\n",
    "        if w in w2i[space_to_tag]:\n",
    "            d += np.abs((wv[space_to_tag][w2i[space_to_tag][w],:]@subspace))**c\n",
    "            n += 1\n",
    "    return d/n\n",
    "\n",
    "# compute bias-by-projection before and after debiasing\n",
    "gender_bias_sub = compute_bias_by_projection_subspace('limit_bef', pca.components_[0]) # we use the first component as in Bolukbasi"
   ]
  },
  {
   "cell_type": "code",
   "execution_count": 153,
   "metadata": {},
   "outputs": [
    {
     "name": "stdout",
     "output_type": "stream",
     "text": [
      "0.04943383608049832\n"
     ]
    }
   ],
   "source": [
    "print(gender_bias_sub)"
   ]
  },
  {
   "cell_type": "code",
   "execution_count": 154,
   "metadata": {},
   "outputs": [],
   "source": [
    "def extract_professions():\n",
    "    professions = []\n",
    "    with codecs.open('../data/lists/professions.json', 'r', 'utf-8') as f:\n",
    "        professions_data = json.load(f)\n",
    "    for item in professions_data:\n",
    "        professions.append(item[0].strip())\n",
    "    return professions\n",
    "\n",
    "professions = extract_professions()"
   ]
  },
  {
   "cell_type": "code",
   "execution_count": 155,
   "metadata": {},
   "outputs": [
    {
     "data": {
      "text/plain": [
       "['accountant',\n",
       " 'acquaintance',\n",
       " 'actor',\n",
       " 'actress',\n",
       " 'adjunct_professor',\n",
       " 'administrator',\n",
       " 'adventurer',\n",
       " 'advocate',\n",
       " 'aide',\n",
       " 'alderman']"
      ]
     },
     "execution_count": 155,
     "metadata": {},
     "output_type": "execute_result"
    }
   ],
   "source": [
    "professions[:10]"
   ]
  },
  {
   "cell_type": "code",
   "execution_count": 156,
   "metadata": {},
   "outputs": [],
   "source": [
    "gender_bias_sub_professions = compute_bias_by_projection_subspace('limit_bef', pca.components_[0], wordlist=professions) # we use the first component as in Bolukbasi"
   ]
  },
  {
   "cell_type": "code",
   "execution_count": 157,
   "metadata": {},
   "outputs": [
    {
     "data": {
      "text/plain": [
       "0.05285617336027109"
      ]
     },
     "execution_count": 157,
     "metadata": {},
     "output_type": "execute_result"
    }
   ],
   "source": [
    "gender_bias_sub_professions"
   ]
  },
  {
   "cell_type": "code",
   "execution_count": null,
   "metadata": {},
   "outputs": [],
   "source": [
    "# Compare with Bolukbasi, Section 5.2"
   ]
  }
 ],
 "metadata": {
  "kernelspec": {
   "display_name": "Python [conda env:root]",
   "language": "python",
   "name": "conda-root-py"
  },
  "language_info": {
   "codemirror_mode": {
    "name": "ipython",
    "version": 3
   },
   "file_extension": ".py",
   "mimetype": "text/x-python",
   "name": "python",
   "nbconvert_exporter": "python",
   "pygments_lexer": "ipython3",
   "version": "3.7.9"
  }
 },
 "nbformat": 4,
 "nbformat_minor": 2
}
