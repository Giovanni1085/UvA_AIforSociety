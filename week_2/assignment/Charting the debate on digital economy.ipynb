{
 "cells": [
  {
   "cell_type": "markdown",
   "id": "b11354eb",
   "metadata": {},
   "source": [
    "## Charting the debate on the digital economy\n",
    "\n",
    "In this assignment, you will use your scraping skills to prepare the later course session on AI and economy. \n",
    "\n",
    "How do people in the news and on social media talk about controversies in the digital economy? There are many ways to do this, it is up to you to choose what to focus on.\n",
    "\n",
    "Relevant questions include:\n",
    "- What are the topics or positions discussed?\n",
    "- What are the attitudes towards this change?\n",
    "- How do topics and attitudes change over time?"
   ]
  },
  {
   "cell_type": "markdown",
   "id": "246b50b9",
   "metadata": {},
   "source": [
    "### Before the laboratory \n",
    "\n",
    "#### Organisation\n",
    "\n",
    "(1) As a group you have to first decide which controversy you want to look at. This could be more long-term concerns like whether robots are taking over human jobs and the question of automation. Or these could be more recent ones like Elon Musk’s take-over of Twitter or the cryptocurrency scandals.\n",
    "\n",
    "(2) Next, choose a data source. You are very free here to choose social media or news media sites. Please, note that often you cannot use web scraping directly but have to rely on APIs of the various sites (https://en.wikipedia.org/wiki/Web_API). They are often easier to handle with specific libraries but require registration, etc.\n",
    "\n",
    "(3) Once you have decided on a data source, you need to make sure that you apply a filter. For instance, you might only want to look at a subset of BBC pages or some Twitter accounts. Or you filter Kaggle news datasets or TikTok data according to particular keywords like ‘FTX’/ ‘Bankman-Fried’. You often want to combine several strategies like particular accounts and keywords.\n",
    "\n",
    "#### Data Sources\n",
    "\n",
    "If you choose social media, consider some of the access issues:\n",
    "\n",
    "- For Twitter, you need to apply for a research API (https://developer.twitter.com/en/products/twitter-api/academic-research). This might take a while and you need to find a Python toolkit to access it like Tweepy (https://www.tweepy.org/). Generally, it is quick, but you never know. Also, maybe they switch off that service.\n",
    "- Some social media sites are still very much committed to open APIs. There is, e.g., the Economics subreddit (https://www.reddit.com/r/Economics/). For access, there is PRAW (https://github.com/praw-dev/praw).\n",
    "- There are also more adventurous options like the unofficial TikTok API (https://github.com/davidteather/TikTok-Api) or for Instagram (https://github.com/adw0rd/instagrapi). Please note, that we might have not tried them, and there is a risk that they do not work when you try them, as the service providers are not happy with the tools and block them.\n",
    "\n",
    "If you choose news sites, there are various options.\n",
    "- Some sites like the BBC can be accessed directly, but you need to develop your own toolkit. Often you find descriptions online like ​​https://towardsdatascience.com/super-simple-way-to-scrape-bbc-news-articles-in-python-5fe1e6ee82d9. Again, they might be outdated though and you need to adjust.\n",
    "- Kaggle also has datasets that might be interesting like Kaggle news headlines from the Huffington Post: https://www.kaggle.com/rmisra/news-category-dataset. But there are many such datasets online. \n",
    "- If you like big data, there is also GDELT (https://www.gdeltproject.org/). Again, there are Python libraries: https://github.com/alex9smith/gdelt-doc-api.\n",
    "\n",
    "You might want to start the data capture before the laboratory, as it might take a while or you want to capture for more than one day."
   ]
  },
  {
   "cell_type": "markdown",
   "id": "f84e1029",
   "metadata": {},
   "source": [
    "### During and after the laboratory\n",
    "\n",
    "Continue with the data gathering but as a group focus on developing a simple computational analysis. Here you have two options:\n",
    "\n",
    "- Focus on the content and apply techniques such as sentiment analysis, keyword analysis with clustering or topic modelling to find out about how people talk about the controversies.\n",
    "- Focus on the networks and clusters similar to what we have done in the lecture. For instance, which accounts are connected on Twitter, who retweets, etc. Or, what kind of websites are linked to from the news sites.\n",
    "\n",
    "There are many recipes online. For instance,\n",
    "- Sentiment analysis: https://www.analyticsvidhya.com/blog/2022/07/sentiment-analysis-using-python/\n",
    "- Topic Modelling: https://towardsdatascience.com/end-to-end-topic-modeling-in-python-latent-dirichlet-allocation-lda-35ce4ed6b3e0\n",
    "- Word2Vec: https://towardsdatascience.com/a-beginners-guide-to-word-embedding-with-gensim-word2vec-model-5970fa56cc92\n",
    "- Network Analysis with Twitter: https://towardsdatascience.com/how-to-download-and-visualize-your-twitter-network-f009dbbf107b\n",
    "- KMeans: https://www.analyticsvidhya.com/blog/2021/04/k-means-clustering-simplified-in-python/. Can you repoduce your own KMeans with keywords analysis like the one for the teens dataset?\n",
    "\n",
    "Again, we have generally not tried these particular implementations and they are just examples of what you could do. You are free to choose any analysis technique. \n",
    "\n",
    "Make sure that at the end you also write about about 300 words on what you see with your analysis.\n"
   ]
  },
  {
   "cell_type": "markdown",
   "id": "3be08beb",
   "metadata": {},
   "source": [
    "### Important stuff at the end\n",
    "\n",
    "Submit everything as a notebook as always and please add some textual descriptions about what you are doing.\n",
    "\n",
    "We **do not expect you to run a full-scale large analysis**. The main aim is to showcase that you can collect/scrape data from the web and do some simple analysis with it. So, a select few number of web sites or social media posts/accounts are enough."
   ]
  }
 ],
 "metadata": {
  "kernelspec": {
   "display_name": "Python 3 (ipykernel)",
   "language": "python",
   "name": "python3"
  },
  "language_info": {
   "codemirror_mode": {
    "name": "ipython",
    "version": 3
   },
   "file_extension": ".py",
   "mimetype": "text/x-python",
   "name": "python",
   "nbconvert_exporter": "python",
   "pygments_lexer": "ipython3",
   "version": "3.9.7"
  }
 },
 "nbformat": 4,
 "nbformat_minor": 5
}
