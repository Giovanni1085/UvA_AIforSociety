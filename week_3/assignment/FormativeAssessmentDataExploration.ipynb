{
 "cells": [
  {
   "cell_type": "markdown",
   "metadata": {},
   "source": [
    "\n",
    "# Exploratory Data Analysis with Python"
   ]
  },
  {
   "cell_type": "markdown",
   "metadata": {},
   "source": [
    "##  Introduction\n",
    "\n",
    "This project trains you on the essentials of exploratory data analysis (EDA) with Python. There are many excellent resources and books. For a recent introducion, check out Suresh Kumar Mukhiya, Usman Ahmed, Hands-On Exploratory Data Analysis with Python, Pack Publishing, 2020.\n",
    "\n",
    "Notebooks are particularly suited for EDA. Let's repeat quickly why.\n",
    "\n",
    "\n",
    "## Notebooks\n",
    "\n",
    "Notebooks are interactive environments to work and share your code for a project and reuse the recipes. They combine plain text with rich text elements such as graphics, calculations, etc. and executable code.\n",
    "\n",
    "You are  working with a sort of text editor in which you indicate your code chunks and your pure text components. The document is self contained and fully reproducible which makes it very easy to share.\n",
    "\n",
    "What's great about working with these notebooks is the fact that you can follow up on the execution of your code chunks, thanks to visual feeedbacks on the completion of code when you're executing large chunks or multiple chunks at once. \n",
    "\n",
    "\n",
    "### Code Execution\n",
    "\n",
    "Notebooks have options to run a code chunk or run the next chunk, run all code chunks below and above. In addition to these options, you can also choose to restart the Python kernel and run all chunks or to restart and to clear the output. \n",
    "\n",
    "You have the option to run a single cell, to run several cells or to run all cells. You can also choose to clear the current or all outputs. The code environment is shared between code cells.\n",
    "\n",
    "### Notebook Sharing\n",
    "\n",
    "You can easily create an HTML file from the notebook that you can share with other people that do not have the same environment set up."
   ]
  },
  {
   "cell_type": "markdown",
   "metadata": {},
   "source": [
    "## Example project\n",
    "\n",
    "EDA is sometimes treated as a step towards a deeper predictive analyis, but it really is a very powerful kind of analysis in its own right - especially if the dataset is not very large or very complex.\n",
    "\n",
    "\n",
    "In the example project, we continues our debate today on analysing votes in parliaments with Python. We will use the dataset by Erik Voeten in 'Data and Analyses of Voting in the UN General Assembly', Routledge Handbook of International Organization, edited by Bob Reinalda (published May 27, 2013)\n",
    "https://papers.ssrn.com/sol3/papers.cfm?abstract_id=2111149. \n",
    "\n",
    "We will analyse the voting behaviour of countries in the UN.\n",
    "\n",
    "Let's start by loading the dataset. "
   ]
  },
  {
   "cell_type": "code",
   "execution_count": 1,
   "metadata": {},
   "outputs": [],
   "source": [
    "#Run the code below\n",
    "\n",
    "import pandas as pd\n",
    "import numpy as np\n",
    "\n",
    "import matplotlib.pyplot as plt\n",
    "%matplotlib inline"
   ]
  },
  {
   "cell_type": "code",
   "execution_count": 2,
   "metadata": {},
   "outputs": [],
   "source": [
    "#Run the code below\n",
    "\n",
    "votes = pd.read_csv(\"../data/Votes.csv\")"
   ]
  },
  {
   "cell_type": "markdown",
   "metadata": {},
   "source": [
    "Check out the dataset with head()."
   ]
  },
  {
   "cell_type": "code",
   "execution_count": null,
   "metadata": {},
   "outputs": [],
   "source": []
  },
  {
   "cell_type": "markdown",
   "metadata": {},
   "source": [
    "Each row in the data is a country-vote pair. RCID is the row call for each vote. The session columns stands for the session, while 'vote' is the country's vote:\n",
    "\n",
    "- 1 = Yes\n",
    "- 2 = Abstain\n",
    "- 3 = No\n",
    "- 8 = Not present\n",
    "- 9 = Not a member"
   ]
  },
  {
   "cell_type": "markdown",
   "metadata": {},
   "source": [
    "Let's remove those observations we are not interested in, which are the votes 8 and 9: 'Not present' and 'Not a member'. \n",
    "\n",
    "Only keep those votes that are in 1, 2 or 3."
   ]
  },
  {
   "cell_type": "code",
   "execution_count": null,
   "metadata": {},
   "outputs": [],
   "source": []
  },
  {
   "cell_type": "markdown",
   "metadata": {},
   "source": [
    "The session columns start from 1946, when the UN was founded but now is simply the number of session. To make this clearer we add 1945 to the column values and create a new column year. Create a new column 'year' to do so."
   ]
  },
  {
   "cell_type": "code",
   "execution_count": null,
   "metadata": {},
   "outputs": [],
   "source": []
  },
  {
   "cell_type": "markdown",
   "metadata": {},
   "source": [
    "The country codes in the ccode column are what is called Correlates of War codes (ccode). But it would be better to have recognizable country names. You can use the countrycode package to translate. \n",
    "\n",
    "I have created a spreadsheet with the relevant informatio. Well, somebody else has and I just copied it. Run the next cell to create a mapping table."
   ]
  },
  {
   "cell_type": "code",
   "execution_count": null,
   "metadata": {},
   "outputs": [],
   "source": [
    "#Run the code below\n",
    "\n",
    "ccode_url = 'https://docs.google.com/spreadsheets/d/1DCA8DaKzUx4i-k6-QJTIW1DlvunvqJ2JKaIBa8DkJI4/export?gid=0&format=csv'\n",
    "   \n",
    "ccode_df = pd.read_csv(ccode_url) \n",
    "\n",
    "ccode_df.head()"
   ]
  },
  {
   "cell_type": "markdown",
   "metadata": {},
   "source": [
    "Please use the information in ccode_df to create a column 'country' in votes with the country name."
   ]
  },
  {
   "cell_type": "code",
   "execution_count": null,
   "metadata": {},
   "outputs": [],
   "source": []
  },
  {
   "cell_type": "markdown",
   "metadata": {},
   "source": [
    "## Data exploration\n",
    "\n",
    "Now, let's make this a little more interesting. We want to count the total number of yes and no votes per year as well as the proportional number of yes and no votes. \n",
    "\n",
    "Create a new dataframe by_year that contains the year, the vote column, the total number of votes per year and 'prop', a column containing the proportion of yes and no votes."
   ]
  },
  {
   "cell_type": "code",
   "execution_count": null,
   "metadata": {},
   "outputs": [],
   "source": []
  },
  {
   "cell_type": "markdown",
   "metadata": {},
   "source": [
    "Now let's plot the data. Simply plot the number of yes votes per year. \n",
    "\n",
    "Do you see a pattern?"
   ]
  },
  {
   "cell_type": "code",
   "execution_count": null,
   "metadata": {},
   "outputs": [],
   "source": []
  },
  {
   "cell_type": "markdown",
   "metadata": {},
   "source": [
    "## Case Studies: Comparison of Yes Votes\n",
    "\n",
    "Finally, let's try a larger case study and investigate the proportion of yes votes for a few countries. This is already a complete small recipe.\n",
    "\n",
    "We first define the country list containing the ones we are interested in."
   ]
  },
  {
   "cell_type": "code",
   "execution_count": null,
   "metadata": {},
   "outputs": [],
   "source": [
    "#Run the code below\n",
    "\n",
    "countries_of_interest = [\"Australia\", \"Brazil\", \"India\"]"
   ]
  },
  {
   "cell_type": "markdown",
   "metadata": {},
   "source": [
    "To change the countries you are interested in, just change the list above.\n",
    "\n",
    "Now, we group not just by year but also by country. We would like to create the same output of yes and no votes, proportions and total again. \n",
    "\n",
    "Call the resulting dataframe by_year_country."
   ]
  },
  {
   "cell_type": "code",
   "execution_count": null,
   "metadata": {},
   "outputs": [],
   "source": []
  },
  {
   "cell_type": "markdown",
   "metadata": {},
   "source": [
    "filtered_countries will be those that have voted yes at least once and are part of the countries we are interested in.\n",
    "\n",
    "Create the dataframe."
   ]
  },
  {
   "cell_type": "code",
   "execution_count": null,
   "metadata": {},
   "outputs": [],
   "source": []
  },
  {
   "cell_type": "markdown",
   "metadata": {},
   "source": [
    "### Visualisation\n",
    "\n",
    "Create a graph with the proportinal yes vote per country of interest per year.\n",
    "\n",
    "Please, use the seaborn package."
   ]
  },
  {
   "cell_type": "code",
   "execution_count": null,
   "metadata": {},
   "outputs": [],
   "source": []
  },
  {
   "cell_type": "markdown",
   "metadata": {
    "collapsed": true
   },
   "source": [
    "That's it. Always remember how easy it is to change notebooks to suit your need."
   ]
  }
 ],
 "metadata": {
  "kernelspec": {
   "display_name": "Python 3",
   "language": "python",
   "name": "python3"
  },
  "language_info": {
   "codemirror_mode": {
    "name": "ipython",
    "version": 3
   },
   "file_extension": ".py",
   "mimetype": "text/x-python",
   "name": "python",
   "nbconvert_exporter": "python",
   "pygments_lexer": "ipython3",
   "version": "3.7.3"
  }
 },
 "nbformat": 4,
 "nbformat_minor": 2
}
